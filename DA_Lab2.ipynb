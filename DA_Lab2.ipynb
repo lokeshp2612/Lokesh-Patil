{
  "nbformat": 4,
  "nbformat_minor": 0,
  "metadata": {
    "colab": {
      "provenance": []
    },
    "kernelspec": {
      "name": "python3",
      "display_name": "Python 3"
    },
    "language_info": {
      "name": "python"
    }
  },
  "cells": [
    {
      "cell_type": "code",
      "source": [
        "import math\n",
        "import statistics\n",
        "import numpy as np\n",
        "import scipy.stats\n",
        "import pandas as pd\n",
        "\n",
        "mtcars = pd.read_csv(\"10_patient_dataset (3).csv\")\n",
        "del mtcars[\"Diabetes Test Type\"]\n",
        "del mtcars[\"Timestamp\"]\n",
        "\n",
        "mtcars"
      ],
      "metadata": {
        "colab": {
          "base_uri": "https://localhost:8080/",
          "height": 661
        },
        "id": "dcTi1LqPRWpM",
        "outputId": "372cef44-a4a6-4d78-af89-85c7d664a8db"
      },
      "execution_count": null,
      "outputs": [
        {
          "output_type": "execute_result",
          "data": {
            "text/plain": [
              "    Patient ID  Glucose level recorded  D-Dimer Test Level  \\\n",
              "0         1000                  125.00                0.45   \n",
              "1         1001                  124.00                0.46   \n",
              "2         1002                  124.60                0.50   \n",
              "3         1003                  124.20                0.47   \n",
              "4         1004                  123.90                0.42   \n",
              "5         1005                  123.80                0.44   \n",
              "6         1006                  122.00                0.45   \n",
              "7         1007                  122.61                0.46   \n",
              "8         1008                  122.63                0.42   \n",
              "9         1009                  122.80                0.42   \n",
              "10        1010                  125.00                0.45   \n",
              "11        1011                  124.20                0.46   \n",
              "12        1012                  124.60                0.48   \n",
              "13        1013                  122.00                0.47   \n",
              "14        1014                  123.90                0.47   \n",
              "15        1015                  124.00                0.44   \n",
              "16        1016                  122.00                0.45   \n",
              "\n",
              "    Systolic Blood Pressure (mm Hg)  Diastolic Blood Pressure (mm Hg)  \\\n",
              "0                              99.0                                78   \n",
              "1                             105.0                                81   \n",
              "2                             106.0                                84   \n",
              "3                             111.0                                82   \n",
              "4                             100.0                                80   \n",
              "5                              99.6                                80   \n",
              "6                              99.1                                80   \n",
              "7                              98.0                                78   \n",
              "8                              98.0                                79   \n",
              "9                              98.0                                79   \n",
              "10                             99.0                                81   \n",
              "11                            101.0                                81   \n",
              "12                            106.0                                84   \n",
              "13                            110.0                                82   \n",
              "14                            100.2                                79   \n",
              "15                             99.6                                80   \n",
              "16                             98.5                                80   \n",
              "\n",
              "    Body Temperature (°F)  Oxygen Level (Spo2)  Chest Congestion (%)  \n",
              "0                    98.0                   99                     9  \n",
              "1                   103.0                   96                    10  \n",
              "2                    99.0                   94                    11  \n",
              "3                    99.7                   99                    10  \n",
              "4                    99.8                   97                     9  \n",
              "5                   104.0                   99                     8  \n",
              "6                   102.0                   98                     9  \n",
              "7                    99.0                  100                    10  \n",
              "8                    98.7                  100                     7  \n",
              "9                    98.0                   97                     6  \n",
              "10                   98.6                   94                     9  \n",
              "11                  103.0                   96                    11  \n",
              "12                   99.0                   95                    11  \n",
              "13                   99.8                  100                    10  \n",
              "14                   98.8                   97                     9  \n",
              "15                  104.0                   96                     8  \n",
              "16                  102.0                   97                     9  "
            ],
            "text/html": [
              "\n",
              "  <div id=\"df-c86a88f7-f29d-4a99-9edf-31c4b155a100\">\n",
              "    <div class=\"colab-df-container\">\n",
              "      <div>\n",
              "<style scoped>\n",
              "    .dataframe tbody tr th:only-of-type {\n",
              "        vertical-align: middle;\n",
              "    }\n",
              "\n",
              "    .dataframe tbody tr th {\n",
              "        vertical-align: top;\n",
              "    }\n",
              "\n",
              "    .dataframe thead th {\n",
              "        text-align: right;\n",
              "    }\n",
              "</style>\n",
              "<table border=\"1\" class=\"dataframe\">\n",
              "  <thead>\n",
              "    <tr style=\"text-align: right;\">\n",
              "      <th></th>\n",
              "      <th>Patient ID</th>\n",
              "      <th>Glucose level recorded</th>\n",
              "      <th>D-Dimer Test Level</th>\n",
              "      <th>Systolic Blood Pressure (mm Hg)</th>\n",
              "      <th>Diastolic Blood Pressure (mm Hg)</th>\n",
              "      <th>Body Temperature (°F)</th>\n",
              "      <th>Oxygen Level (Spo2)</th>\n",
              "      <th>Chest Congestion (%)</th>\n",
              "    </tr>\n",
              "  </thead>\n",
              "  <tbody>\n",
              "    <tr>\n",
              "      <th>0</th>\n",
              "      <td>1000</td>\n",
              "      <td>125.00</td>\n",
              "      <td>0.45</td>\n",
              "      <td>99.0</td>\n",
              "      <td>78</td>\n",
              "      <td>98.0</td>\n",
              "      <td>99</td>\n",
              "      <td>9</td>\n",
              "    </tr>\n",
              "    <tr>\n",
              "      <th>1</th>\n",
              "      <td>1001</td>\n",
              "      <td>124.00</td>\n",
              "      <td>0.46</td>\n",
              "      <td>105.0</td>\n",
              "      <td>81</td>\n",
              "      <td>103.0</td>\n",
              "      <td>96</td>\n",
              "      <td>10</td>\n",
              "    </tr>\n",
              "    <tr>\n",
              "      <th>2</th>\n",
              "      <td>1002</td>\n",
              "      <td>124.60</td>\n",
              "      <td>0.50</td>\n",
              "      <td>106.0</td>\n",
              "      <td>84</td>\n",
              "      <td>99.0</td>\n",
              "      <td>94</td>\n",
              "      <td>11</td>\n",
              "    </tr>\n",
              "    <tr>\n",
              "      <th>3</th>\n",
              "      <td>1003</td>\n",
              "      <td>124.20</td>\n",
              "      <td>0.47</td>\n",
              "      <td>111.0</td>\n",
              "      <td>82</td>\n",
              "      <td>99.7</td>\n",
              "      <td>99</td>\n",
              "      <td>10</td>\n",
              "    </tr>\n",
              "    <tr>\n",
              "      <th>4</th>\n",
              "      <td>1004</td>\n",
              "      <td>123.90</td>\n",
              "      <td>0.42</td>\n",
              "      <td>100.0</td>\n",
              "      <td>80</td>\n",
              "      <td>99.8</td>\n",
              "      <td>97</td>\n",
              "      <td>9</td>\n",
              "    </tr>\n",
              "    <tr>\n",
              "      <th>5</th>\n",
              "      <td>1005</td>\n",
              "      <td>123.80</td>\n",
              "      <td>0.44</td>\n",
              "      <td>99.6</td>\n",
              "      <td>80</td>\n",
              "      <td>104.0</td>\n",
              "      <td>99</td>\n",
              "      <td>8</td>\n",
              "    </tr>\n",
              "    <tr>\n",
              "      <th>6</th>\n",
              "      <td>1006</td>\n",
              "      <td>122.00</td>\n",
              "      <td>0.45</td>\n",
              "      <td>99.1</td>\n",
              "      <td>80</td>\n",
              "      <td>102.0</td>\n",
              "      <td>98</td>\n",
              "      <td>9</td>\n",
              "    </tr>\n",
              "    <tr>\n",
              "      <th>7</th>\n",
              "      <td>1007</td>\n",
              "      <td>122.61</td>\n",
              "      <td>0.46</td>\n",
              "      <td>98.0</td>\n",
              "      <td>78</td>\n",
              "      <td>99.0</td>\n",
              "      <td>100</td>\n",
              "      <td>10</td>\n",
              "    </tr>\n",
              "    <tr>\n",
              "      <th>8</th>\n",
              "      <td>1008</td>\n",
              "      <td>122.63</td>\n",
              "      <td>0.42</td>\n",
              "      <td>98.0</td>\n",
              "      <td>79</td>\n",
              "      <td>98.7</td>\n",
              "      <td>100</td>\n",
              "      <td>7</td>\n",
              "    </tr>\n",
              "    <tr>\n",
              "      <th>9</th>\n",
              "      <td>1009</td>\n",
              "      <td>122.80</td>\n",
              "      <td>0.42</td>\n",
              "      <td>98.0</td>\n",
              "      <td>79</td>\n",
              "      <td>98.0</td>\n",
              "      <td>97</td>\n",
              "      <td>6</td>\n",
              "    </tr>\n",
              "    <tr>\n",
              "      <th>10</th>\n",
              "      <td>1010</td>\n",
              "      <td>125.00</td>\n",
              "      <td>0.45</td>\n",
              "      <td>99.0</td>\n",
              "      <td>81</td>\n",
              "      <td>98.6</td>\n",
              "      <td>94</td>\n",
              "      <td>9</td>\n",
              "    </tr>\n",
              "    <tr>\n",
              "      <th>11</th>\n",
              "      <td>1011</td>\n",
              "      <td>124.20</td>\n",
              "      <td>0.46</td>\n",
              "      <td>101.0</td>\n",
              "      <td>81</td>\n",
              "      <td>103.0</td>\n",
              "      <td>96</td>\n",
              "      <td>11</td>\n",
              "    </tr>\n",
              "    <tr>\n",
              "      <th>12</th>\n",
              "      <td>1012</td>\n",
              "      <td>124.60</td>\n",
              "      <td>0.48</td>\n",
              "      <td>106.0</td>\n",
              "      <td>84</td>\n",
              "      <td>99.0</td>\n",
              "      <td>95</td>\n",
              "      <td>11</td>\n",
              "    </tr>\n",
              "    <tr>\n",
              "      <th>13</th>\n",
              "      <td>1013</td>\n",
              "      <td>122.00</td>\n",
              "      <td>0.47</td>\n",
              "      <td>110.0</td>\n",
              "      <td>82</td>\n",
              "      <td>99.8</td>\n",
              "      <td>100</td>\n",
              "      <td>10</td>\n",
              "    </tr>\n",
              "    <tr>\n",
              "      <th>14</th>\n",
              "      <td>1014</td>\n",
              "      <td>123.90</td>\n",
              "      <td>0.47</td>\n",
              "      <td>100.2</td>\n",
              "      <td>79</td>\n",
              "      <td>98.8</td>\n",
              "      <td>97</td>\n",
              "      <td>9</td>\n",
              "    </tr>\n",
              "    <tr>\n",
              "      <th>15</th>\n",
              "      <td>1015</td>\n",
              "      <td>124.00</td>\n",
              "      <td>0.44</td>\n",
              "      <td>99.6</td>\n",
              "      <td>80</td>\n",
              "      <td>104.0</td>\n",
              "      <td>96</td>\n",
              "      <td>8</td>\n",
              "    </tr>\n",
              "    <tr>\n",
              "      <th>16</th>\n",
              "      <td>1016</td>\n",
              "      <td>122.00</td>\n",
              "      <td>0.45</td>\n",
              "      <td>98.5</td>\n",
              "      <td>80</td>\n",
              "      <td>102.0</td>\n",
              "      <td>97</td>\n",
              "      <td>9</td>\n",
              "    </tr>\n",
              "  </tbody>\n",
              "</table>\n",
              "</div>\n",
              "      <button class=\"colab-df-convert\" onclick=\"convertToInteractive('df-c86a88f7-f29d-4a99-9edf-31c4b155a100')\"\n",
              "              title=\"Convert this dataframe to an interactive table.\"\n",
              "              style=\"display:none;\">\n",
              "        \n",
              "  <svg xmlns=\"http://www.w3.org/2000/svg\" height=\"24px\"viewBox=\"0 0 24 24\"\n",
              "       width=\"24px\">\n",
              "    <path d=\"M0 0h24v24H0V0z\" fill=\"none\"/>\n",
              "    <path d=\"M18.56 5.44l.94 2.06.94-2.06 2.06-.94-2.06-.94-.94-2.06-.94 2.06-2.06.94zm-11 1L8.5 8.5l.94-2.06 2.06-.94-2.06-.94L8.5 2.5l-.94 2.06-2.06.94zm10 10l.94 2.06.94-2.06 2.06-.94-2.06-.94-.94-2.06-.94 2.06-2.06.94z\"/><path d=\"M17.41 7.96l-1.37-1.37c-.4-.4-.92-.59-1.43-.59-.52 0-1.04.2-1.43.59L10.3 9.45l-7.72 7.72c-.78.78-.78 2.05 0 2.83L4 21.41c.39.39.9.59 1.41.59.51 0 1.02-.2 1.41-.59l7.78-7.78 2.81-2.81c.8-.78.8-2.07 0-2.86zM5.41 20L4 18.59l7.72-7.72 1.47 1.35L5.41 20z\"/>\n",
              "  </svg>\n",
              "      </button>\n",
              "      \n",
              "  <style>\n",
              "    .colab-df-container {\n",
              "      display:flex;\n",
              "      flex-wrap:wrap;\n",
              "      gap: 12px;\n",
              "    }\n",
              "\n",
              "    .colab-df-convert {\n",
              "      background-color: #E8F0FE;\n",
              "      border: none;\n",
              "      border-radius: 50%;\n",
              "      cursor: pointer;\n",
              "      display: none;\n",
              "      fill: #1967D2;\n",
              "      height: 32px;\n",
              "      padding: 0 0 0 0;\n",
              "      width: 32px;\n",
              "    }\n",
              "\n",
              "    .colab-df-convert:hover {\n",
              "      background-color: #E2EBFA;\n",
              "      box-shadow: 0px 1px 2px rgba(60, 64, 67, 0.3), 0px 1px 3px 1px rgba(60, 64, 67, 0.15);\n",
              "      fill: #174EA6;\n",
              "    }\n",
              "\n",
              "    [theme=dark] .colab-df-convert {\n",
              "      background-color: #3B4455;\n",
              "      fill: #D2E3FC;\n",
              "    }\n",
              "\n",
              "    [theme=dark] .colab-df-convert:hover {\n",
              "      background-color: #434B5C;\n",
              "      box-shadow: 0px 1px 3px 1px rgba(0, 0, 0, 0.15);\n",
              "      filter: drop-shadow(0px 1px 2px rgba(0, 0, 0, 0.3));\n",
              "      fill: #FFFFFF;\n",
              "    }\n",
              "  </style>\n",
              "\n",
              "      <script>\n",
              "        const buttonEl =\n",
              "          document.querySelector('#df-c86a88f7-f29d-4a99-9edf-31c4b155a100 button.colab-df-convert');\n",
              "        buttonEl.style.display =\n",
              "          google.colab.kernel.accessAllowed ? 'block' : 'none';\n",
              "\n",
              "        async function convertToInteractive(key) {\n",
              "          const element = document.querySelector('#df-c86a88f7-f29d-4a99-9edf-31c4b155a100');\n",
              "          const dataTable =\n",
              "            await google.colab.kernel.invokeFunction('convertToInteractive',\n",
              "                                                     [key], {});\n",
              "          if (!dataTable) return;\n",
              "\n",
              "          const docLinkHtml = 'Like what you see? Visit the ' +\n",
              "            '<a target=\"_blank\" href=https://colab.research.google.com/notebooks/data_table.ipynb>data table notebook</a>'\n",
              "            + ' to learn more about interactive tables.';\n",
              "          element.innerHTML = '';\n",
              "          dataTable['output_type'] = 'display_data';\n",
              "          await google.colab.output.renderOutput(dataTable, element);\n",
              "          const docLink = document.createElement('div');\n",
              "          docLink.innerHTML = docLinkHtml;\n",
              "          element.appendChild(docLink);\n",
              "        }\n",
              "      </script>\n",
              "    </div>\n",
              "  </div>\n",
              "  "
            ]
          },
          "metadata": {},
          "execution_count": 6
        }
      ]
    },
    {
      "cell_type": "code",
      "source": [
        "mtcars.mean() "
      ],
      "metadata": {
        "colab": {
          "base_uri": "https://localhost:8080/"
        },
        "id": "4mjLGMsVS19G",
        "outputId": "37c4823e-2eb6-402e-b890-3cb22337ae35"
      },
      "execution_count": null,
      "outputs": [
        {
          "output_type": "execute_result",
          "data": {
            "text/plain": [
              "Patient ID                          1008.000000\n",
              "Glucose level recorded               123.602353\n",
              "D-Dimer Test Level                     0.453529\n",
              "Systolic Blood Pressure (mm Hg)      101.647059\n",
              "Diastolic Blood Pressure (mm Hg)      80.470588\n",
              "Body Temperature (°F)                100.376471\n",
              "Oxygen Level (Spo2)                   97.294118\n",
              "Chest Congestion (%)                   9.176471\n",
              "dtype: float64"
            ]
          },
          "metadata": {},
          "execution_count": 7
        }
      ]
    },
    {
      "cell_type": "code",
      "source": [
        "mtcars.median()      "
      ],
      "metadata": {
        "colab": {
          "base_uri": "https://localhost:8080/"
        },
        "id": "LSFzGEZFTK18",
        "outputId": "15412e6a-b404-4227-d3c2-8f67d96d0a0c"
      },
      "execution_count": null,
      "outputs": [
        {
          "output_type": "execute_result",
          "data": {
            "text/plain": [
              "Patient ID                          1008.00\n",
              "Glucose level recorded               123.90\n",
              "D-Dimer Test Level                     0.45\n",
              "Systolic Blood Pressure (mm Hg)       99.60\n",
              "Diastolic Blood Pressure (mm Hg)      80.00\n",
              "Body Temperature (°F)                 99.70\n",
              "Oxygen Level (Spo2)                   97.00\n",
              "Chest Congestion (%)                   9.00\n",
              "dtype: float64"
            ]
          },
          "metadata": {},
          "execution_count": 9
        }
      ]
    },
    {
      "cell_type": "code",
      "source": [
        "norm_data = pd.DataFrame(np.random.normal(size=100000))\n",
        "\n",
        "norm_data.plot(kind=\"density\",\n",
        "              figsize=(10,10));\n",
        "\n",
        "\n",
        "plt.vlines(norm_data.mean(),     # Plot black line at mean\n",
        "           ymin=0, \n",
        "           ymax=0.4,\n",
        "           linewidth=5.0);\n",
        "\n",
        "plt.vlines(norm_data.median(),   # Plot red line at median\n",
        "           ymin=0, \n",
        "           ymax=0.4, \n",
        "           linewidth=2.0,\n",
        "           color=\"red\");"
      ],
      "metadata": {
        "colab": {
          "base_uri": "https://localhost:8080/",
          "height": 592
        },
        "id": "VcunTnTrTR7s",
        "outputId": "0aafbb2b-7fdc-497d-b7d3-93471f9c9bac"
      },
      "execution_count": null,
      "outputs": [
        {
          "output_type": "display_data",
          "data": {
            "text/plain": [
              "<Figure size 720x720 with 1 Axes>"
            ],
            "image/png": "[encoded data removed]"
          },
          "metadata": {
            "needs_background": "light"
          }
        }
      ]
    },
    {
      "cell_type": "code",
      "source": [
        "x = [8.0, 1, 2.5, 4, 28.0]\n",
        "n = len(x)\n",
        "mean = sum(x) / n\n",
        "var = sum((item - mean)**2 for item in x) / (n - 1)\n",
        "var"
      ],
      "metadata": {
        "colab": {
          "base_uri": "https://localhost:8080/"
        },
        "id": "lVBmbe-nTZaw",
        "outputId": "b23727d9-ca60-43e1-ed95-42925726b9e9"
      },
      "execution_count": null,
      "outputs": [
        {
          "output_type": "execute_result",
          "data": {
            "text/plain": [
              "123.19999999999999"
            ]
          },
          "metadata": {},
          "execution_count": 12
        }
      ]
    },
    {
      "cell_type": "code",
      "source": [
        "std = var ** 0.5\n",
        "std"
      ],
      "metadata": {
        "colab": {
          "base_uri": "https://localhost:8080/"
        },
        "id": "sIfacRw_T4Cp",
        "outputId": "4d2c95a1-489c-4576-ae98-2e56c464edf8"
      },
      "execution_count": null,
      "outputs": [
        {
          "output_type": "execute_result",
          "data": {
            "text/plain": [
              "11.099549540409285"
            ]
          },
          "metadata": {},
          "execution_count": 13
        }
      ]
    },
    {
      "cell_type": "code",
      "source": [
        "skew = (sum((item - mean)**3 for item in x) * n / ((n - 1) * (n - 2) * std**3))\n",
        "skew"
      ],
      "metadata": {
        "colab": {
          "base_uri": "https://localhost:8080/"
        },
        "id": "IphoQxC4UMfb",
        "outputId": "d26d5828-ea1b-438d-cfa1-250606aaf237"
      },
      "execution_count": null,
      "outputs": [
        {
          "output_type": "execute_result",
          "data": {
            "text/plain": [
              "1.9470432273905929"
            ]
          },
          "metadata": {},
          "execution_count": 15
        }
      ]
    },
    {
      "cell_type": "code",
      "source": [
        "x = list(range(-10, 11))\n",
        "y = [0, 2, 2, 2, 2, 3, 3, 6, 7, 4, 7, 6, 6, 9, 4, 5, 5, 10, 11, 12, 14]\n",
        "x_, y_ = np.array(x), np.array(y)\n",
        "x__, y__ = pd.Series(x_), pd.Series(y_)\n",
        "n = len(x)\n",
        "mean_x, mean_y = sum(x) / n, sum(y) / n\n",
        "cov_xy = (sum((x[k] - mean_x) * (y[k] - mean_y) for k in range(n)) / (n - 1))\n",
        "cov_xy"
      ],
      "metadata": {
        "colab": {
          "base_uri": "https://localhost:8080/"
        },
        "id": "5lXmqGyYUif4",
        "outputId": "a0a79752-0cb3-473d-a20f-310f7b3621e5"
      },
      "execution_count": null,
      "outputs": [
        {
          "output_type": "execute_result",
          "data": {
            "text/plain": [
              "19.95"
            ]
          },
          "metadata": {},
          "execution_count": 18
        }
      ]
    },
    {
      "cell_type": "code",
      "source": [
        "var_x = sum((item - mean_x)**2 for item in x) / (n - 1)\n",
        "var_y = sum((item - mean_y)**2 for item in y) / (n - 1)\n",
        "std_x, std_y = var_x ** 0.5, var_y ** 0.5\n",
        "r = cov_xy / (std_x * std_y)\n",
        "r"
      ],
      "metadata": {
        "colab": {
          "base_uri": "https://localhost:8080/"
        },
        "id": "sPJzsFIfW3Rb",
        "outputId": "0f7799a1-8950-4f1d-ebbe-6df23805f5cf"
      },
      "execution_count": null,
      "outputs": [
        {
          "output_type": "execute_result",
          "data": {
            "text/plain": [
              "0.861950005631606"
            ]
          },
          "metadata": {},
          "execution_count": 19
        }
      ]
    },
    {
      "cell_type": "code",
      "execution_count": null,
      "metadata": {
        "colab": {
          "base_uri": "https://localhost:8080/",
          "height": 537
        },
        "id": "YqZDGKknrPEl",
        "outputId": "c2505b61-c956-4206-9793-d36d72936894"
      },
      "outputs": [
        {
          "output_type": "display_data",
          "data": {
            "text/plain": [
              "<Figure size 648x648 with 1 Axes>"
            ],
            "image/png": "[encoded data removed]"
          },
          "metadata": {
            "needs_background": "light"
          }
        }
      ],
      "source": [
        "%matplotlib inline\n",
        "\n",
        "import numpy as np\n",
        "import pandas as pd\n",
        "import matplotlib.pyplot as plt\n",
        "import scipy.stats as stats\n",
        "\n",
        "uniform_data = stats.uniform.rvs(size=100000,  # Generate 100000 numbers\n",
        "                                 loc = 0,      # From 0 \n",
        "                                 scale=10)     # To 10\n",
        "                        \n",
        "pd.DataFrame(uniform_data).plot(kind=\"density\",  # Plot the distribution\n",
        "                               figsize=(9,9),\n",
        "                               xlim=(-1,11));\n"
      ]
    },
    {
      "cell_type": "code",
      "source": [
        "prob_under_minus1 = stats.norm.cdf(x= -1,  \n",
        "                                loc = 0,               \n",
        "                                scale= 1)     \n",
        "\n",
        "prob_over_1 = 1 - stats.norm.cdf(x= 1,  \n",
        "                                loc = 0,               \n",
        "                                scale= 1) \n",
        "\n",
        "between_prob = 1-(prob_under_minus1+prob_over_1)\n",
        "\n",
        "print(prob_under_minus1, prob_over_1, between_prob)\n",
        "\n",
        "plt.rcParams[\"figure.figsize\"] = (9,9)\n",
        "                                  \n",
        "plt.fill_between(x=np.arange(-4,-1,0.01), \n",
        "                 y1= stats.norm.pdf(np.arange(-4,-1,0.01)) ,\n",
        "                 facecolor='red',\n",
        "                 alpha=0.35)\n",
        "\n",
        "plt.fill_between(x=np.arange(1,4,0.01), \n",
        "                 y1= stats.norm.pdf(np.arange(1,4,0.01)) ,\n",
        "                 facecolor='red',\n",
        "                 alpha=0.35)\n",
        "\n",
        "plt.fill_between(x=np.arange(-1,1,0.01), \n",
        "                 y1= stats.norm.pdf(np.arange(-1,1,0.01)) ,\n",
        "                 facecolor='blue',\n",
        "                 alpha=0.35)\n",
        "\n",
        "plt.text(x=-1.8, y=0.03, s= round(prob_under_minus1,3))\n",
        "plt.text(x=-0.2, y=0.1, s= round(between_prob,3))\n",
        "plt.text(x=1.4, y=0.03, s= round(prob_over_1,3));"
      ],
      "metadata": {
        "colab": {
          "base_uri": "https://localhost:8080/",
          "height": 554
        },
        "id": "OqBwST3tQ5iO",
        "outputId": "67cd3d93-68c6-4522-fd6e-7a864c9da031"
      },
      "execution_count": null,
      "outputs": [
        {
          "output_type": "stream",
          "name": "stdout",
          "text": [
            "0.15865525393145707 0.15865525393145707 0.6826894921370859\n"
          ]
        },
        {
          "output_type": "display_data",
          "data": {
            "text/plain": [
              "<Figure size 648x648 with 1 Axes>"
            ],
            "image/png": "[encoded data removed]"
          },
          "metadata": {
            "needs_background": "light"
          }
        }
      ]
    },
    {
      "cell_type": "code",
      "source": [
        "plt.figure(figsize=(12,10))\n",
        "\n",
        "\n",
        "plt.fill_between(x=np.arange(-4,-2,0.01), \n",
        "                 y1= stats.norm.pdf(np.arange(-4,-2,0.01)) ,\n",
        "                 facecolor='red',\n",
        "                 alpha=0.35)\n",
        "\n",
        "plt.fill_between(x=np.arange(-2,2,0.01), \n",
        "                 y1= stats.norm.pdf(np.arange(-2,2,0.01)) ,\n",
        "                 facecolor='grey',\n",
        "                 alpha=0.35)\n",
        "\n",
        "plt.fill_between(x=np.arange(2,4,0.01), \n",
        "                 y1= stats.norm.pdf(np.arange(2,4,0.01)) ,\n",
        "                 facecolor='red',\n",
        "                 alpha=0.5)\n",
        "\n",
        "plt.fill_between(x=np.arange(-4,-2,0.01), \n",
        "                 y1= stats.norm.pdf(np.arange(-4,-2,0.01),loc=3, scale=2) ,\n",
        "                 facecolor='grey',\n",
        "                 alpha=0.35)\n",
        "\n",
        "plt.fill_between(x=np.arange(-2,2,0.01), \n",
        "                 y1= stats.norm.pdf(np.arange(-2,2,0.01),loc=3, scale=2) ,\n",
        "                 facecolor='blue',\n",
        "                 alpha=0.35)\n",
        "\n",
        "plt.fill_between(x=np.arange(2,10,0.01), \n",
        "                 y1= stats.norm.pdf(np.arange(2,10,0.01),loc=3, scale=2),\n",
        "                 facecolor='grey',\n",
        "                 alpha=0.35)\n",
        "\n",
        "plt.text(x=-0.8, y=0.15, s= \"Null Hypothesis\")\n",
        "plt.text(x=2.5, y=0.13, s= \"Alternative\")\n",
        "plt.text(x=2.1, y=0.01, s= \"Type 1 Error\")\n",
        "plt.text(x=-3.2, y=0.01, s= \"Type 1 Error\")\n",
        "plt.text(x=0, y=0.02, s= \"Type 2 Error\");"
      ],
      "metadata": {
        "colab": {
          "base_uri": "https://localhost:8080/",
          "height": 592
        },
        "id": "K-cpTnAiVmA2",
        "outputId": "77e26312-52d1-45e8-b92d-efee2342bd90"
      },
      "execution_count": null,
      "outputs": [
        {
          "output_type": "display_data",
          "data": {
            "text/plain": [
              "<Figure size 864x720 with 1 Axes>"
            ],
            "image/png": "[encoded data removed]"
          },
          "metadata": {
            "needs_background": "light"
          }
        }
      ]
    },
    {
      "cell_type": "code",
      "source": [
        "lower_quantile = stats.norm.ppf(0.025)  # Lower cutoff value\n",
        "upper_quantile = stats.norm.ppf(0.975)  # Upper cutoff value\n",
        "\n",
        "# Area under alternative, to the left the lower cutoff value\n",
        "low = stats.norm.cdf(lower_quantile,    \n",
        "                     loc=3,             \n",
        "                     scale=2)\n",
        "\n",
        "# Area under alternative, to the left the upper cutoff value\n",
        "high = stats.norm.cdf(upper_quantile, \n",
        "                      loc=3, \n",
        "                      scale=2)          \n",
        "\n",
        "# Area under the alternative, between the cutoffs (Type II error)\n",
        "high-low"
      ],
      "metadata": {
        "colab": {
          "base_uri": "https://localhost:8080/"
        },
        "id": "IZfpNJ1OVqjR",
        "outputId": "122c99b9-dd4f-4b0d-9cbe-90f0de805664"
      },
      "execution_count": null,
      "outputs": [
        {
          "output_type": "execute_result",
          "data": {
            "text/plain": [
              "0.294956061112323"
            ]
          },
          "metadata": {},
          "execution_count": 17
        }
      ]
    },
    {
      "cell_type": "code",
      "source": [],
      "metadata": {
        "id": "1SAXoQFjXeKa"
      },
      "execution_count": null,
      "outputs": []
    }
  ]
}